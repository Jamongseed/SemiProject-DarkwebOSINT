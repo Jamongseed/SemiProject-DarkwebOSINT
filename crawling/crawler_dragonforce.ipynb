{
 "cells": [
  {
   "cell_type": "code",
   "execution_count": 20,
   "id": "b2d6b852",
   "metadata": {},
   "outputs": [],
   "source": [
    "import requests\n",
    "import platform\n",
    "from IPython.display import display, Markdown\n",
    "from pprint import pprint\n",
    "from datetime import datetime, timezone\n",
    "from zoneinfo import ZoneInfo"
   ]
  },
  {
   "cell_type": "code",
   "execution_count": 21,
   "id": "cdabca51",
   "metadata": {},
   "outputs": [],
   "source": [
    "# 예시 사이트 크롤링. DragonForce\n",
    "URL = \"http://z3wqggtxft7id3ibr7srivv5gjof5fwg76slewnzwwakjuf3nlhukdid.onion\""
   ]
  },
  {
   "cell_type": "code",
   "execution_count": 22,
   "id": "5fe16770",
   "metadata": {},
   "outputs": [],
   "source": [
    "# OS에 따라 Tor 포트를 자동으로 설정\n",
    "PORT = \"9150\" if platform.system() == \"Windows\" else \"9050\"\n",
    "\n",
    "# Tor 네트워크 접속을 위한 프록시 설정\n",
    "PROXIES = {\n",
    "    \"http\": f\"socks5h://127.0.0.1:{PORT}\",\n",
    "    \"https\": f\"socks5h://127.0.0.1:{PORT}\"\n",
    "}"
   ]
  },
  {
   "cell_type": "code",
   "execution_count": 23,
   "id": "b9a01373",
   "metadata": {},
   "outputs": [],
   "source": [
    "def get_tor_session() -> requests.Session:\n",
    "    \"\"\"OS에 맞게 설정된 Tor 프록시를 사용하는 requests 세션 객체를 생성합니다.\"\"\"\n",
    "    session = requests.session()\n",
    "    session.proxies = PROXIES\n",
    "    return session\n",
    "\n",
    "def fetch_page_data(session: requests.Session, page: int, base_url: str) -> dict | None:\n",
    "    \"\"\"지정된 페이지의 API 데이터를 가져옵니다.\"\"\"\n",
    "    api_url = f\"{base_url}/api/guest/blog/posts?page={page}\"\n",
    "    print(f\"⏳ Page {page} 데이터 요청 시도 (URL: {api_url})\")\n",
    "    try:\n",
    "        response = session.get(api_url, timeout=60)\n",
    "        response.raise_for_status()\n",
    "        print(f\"Page {page}: 데이터 로드 성공\")\n",
    "        return response.json()\n",
    "    except Exception as e:\n",
    "        print(f\"Page {page}: 데이터 로드 실패 - {e}\")\n",
    "        return None"
   ]
  },
  {
   "cell_type": "code",
   "execution_count": 24,
   "id": "7aceba68",
   "metadata": {},
   "outputs": [],
   "source": [
    "# session = get_tor_session()\n",
    "# initial_data = fetch_page_data(session=session, page=1, base_url=URL)\n",
    "\n",
    "# total_pages = initial_data.get('data', {}).get('pages', 1)"
   ]
  },
  {
   "cell_type": "code",
   "execution_count": 25,
   "id": "b38d4808",
   "metadata": {},
   "outputs": [],
   "source": [
    "# pprint(initial_data)"
   ]
  },
  {
   "cell_type": "code",
   "execution_count": 26,
   "id": "43f237aa",
   "metadata": {},
   "outputs": [],
   "source": [
    "# In[5]:\n",
    "def format_bytes(size_bytes: int) -> str:\n",
    "    \"\"\"바이트 단위의 파일 크기를 사람이 읽기 쉬운 형태로 변환합니다.\"\"\"\n",
    "    if size_bytes == 0: return \"0 B\"\n",
    "    power = 1024\n",
    "    n = 0\n",
    "    power_labels = {0: 'B', 1: 'KB', 2: 'MB', 3: 'GB', 4: 'TB'}\n",
    "    while size_bytes >= power and n < len(power_labels) - 1:\n",
    "        size_bytes /= power\n",
    "        n += 1\n",
    "    return f\"{size_bytes:.2f} {power_labels[n]}\"\n",
    "\n",
    "def parse_victim_data(publication: dict, page: int) -> dict:\n",
    "    \"\"\"개별 유출 정보를 파싱하여 딕셔너리로 반환합니다.\"\"\"\n",
    "    now_utc = datetime.now(timezone.utc)\n",
    "    now_kst = now_utc.astimezone(ZoneInfo(\"Asia/Seoul\"))\n",
    "\n",
    "    created_at_str = publication.get('created_at', '')\n",
    "    posted_at_utc = datetime.fromisoformat(created_at_str.replace('Z', '+00:00')) if created_at_str else None\n",
    "    \n",
    "    timer_str = publication.get('timer_publication', '')\n",
    "    is_published = False\n",
    "    time_until_publication = \"N/A\"\n",
    "    \n",
    "    if timer_str:\n",
    "        publication_time_utc = datetime.fromisoformat(timer_str.replace('Z', '+00:00'))\n",
    "        if now_utc >= publication_time_utc:\n",
    "            is_published = True\n",
    "        else:\n",
    "            time_left = publication_time_utc - now_utc\n",
    "            days = time_left.days\n",
    "            hours, remainder = divmod(time_left.seconds, 3600)\n",
    "            minutes, _ = divmod(remainder, 60)\n",
    "            time_until_publication = f\"{days}d {hours}h {minutes}m left\"\n",
    "\n",
    "    details_url = f\"{URL}/api/guest/blog/post?post_uuid={publication.get('uuid', '')}\"\n",
    "    publication_url = f\"{URL}/api/guest/blog/post/files?post_uuid={publication.get('uuid', '')}\"\n",
    "    \n",
    "    return {\n",
    "        \"Current Time (KST)\": now_kst.strftime('%Y-%m-%d %H:%M:%S'),\n",
    "        \"Current Time (UTC)\": now_utc.strftime('%Y-%m-%d %H:%M:%S'),\n",
    "        \"Page Number\": page,\n",
    "        \"Company Name\": publication.get('name', 'N/A').strip(),\n",
    "        \"Website\": publication.get('website', 'N/A').strip(),\n",
    "        \"Address\": publication.get('address', 'N/A').strip(),\n",
    "        \"Data Size\": format_bytes(publication.get('weight', 0)),\n",
    "        \"Description\": publication.get('description', 'N/A').strip(),\n",
    "        \"Is Published\": 'Yes' if is_published else 'No',\n",
    "        \"Time Until Publication\": time_until_publication,\n",
    "        \"Publication URL\": publication_url if is_published else \"Not yet published\",\n",
    "        \"Posted Time (UTC)\": posted_at_utc.strftime('%Y-%m-%d %H:%M:%S') if posted_at_utc else 'N/A',\n",
    "        \"Details URL\": details_url\n",
    "    }\n",
    "\n",
    "def print_victim_details(victim_dict: dict):\n",
    "    print(\"--------------------------------------------------\")\n",
    "    for key, value in victim_dict.items():\n",
    "        if key == \"Description\" and len(str(value)) > 100:\n",
    "            value = f\"{str(value)[:100]}...\"\n",
    "        print(f\"  [+] {key}: {value}\")\n",
    "    print(\"--------------------------------------------------\\n\")"
   ]
  },
  {
   "cell_type": "code",
   "execution_count": 27,
   "id": "9efebb89",
   "metadata": {},
   "outputs": [
    {
     "name": "stdout",
     "output_type": "stream",
     "text": [
      "⏳ Page 1 데이터 요청 시도 (URL: http://z3wqggtxft7id3ibr7srivv5gjof5fwg76slewnzwwakjuf3nlhukdid.onion/api/guest/blog/posts?page=1)\n",
      "Page 1: 데이터 로드 성공\n",
      "총 11개의 페이지를 발견했습니다. 순차적으로 크롤링을 시작합니다.\n",
      "\n"
     ]
    },
    {
     "data": {
      "text/markdown": [
       "### 데이터 처리 완료! 총 **24** 개의 피해 기업 정보를 리스트에 저장했습니다."
      ],
      "text/plain": [
       "<IPython.core.display.Markdown object>"
      ]
     },
     "metadata": {},
     "output_type": "display_data"
    },
    {
     "data": {
      "text/markdown": [
       "### 수집된 데이터 샘플 (최신 5개)"
      ],
      "text/plain": [
       "<IPython.core.display.Markdown object>"
      ]
     },
     "metadata": {},
     "output_type": "display_data"
    },
    {
     "name": "stdout",
     "output_type": "stream",
     "text": [
      "--------------------------------------------------\n",
      "  [+] Current Time (KST): 2025-10-15 23:54:32\n",
      "  [+] Current Time (UTC): 2025-10-15 14:54:32\n",
      "  [+] Page Number: 1\n",
      "  [+] Company Name: The Law Offices of Michael C George\n",
      "  [+] Website: www.lawofficemcg.com\n",
      "  [+] Address: 3001 Broadway, West Palm Beach, Florida, 33407, United States\n",
      "  [+] Data Size: 442.61 GB\n",
      "  [+] Description: The Law Office of Michael C. George, P.A. specializes in personal injury and criminal law, providing...\n",
      "  [+] Is Published: No\n",
      "  [+] Time Until Publication: 4d 19h 28m left\n",
      "  [+] Publication URL: Not yet published\n",
      "  [+] Posted Time (UTC): 2025-10-14 13:26:06\n",
      "  [+] Details URL: http://z3wqggtxft7id3ibr7srivv5gjof5fwg76slewnzwwakjuf3nlhukdid.onion/api/guest/blog/post?post_uuid=1eb43fe2-e402-4efe-81d7-be5394b66059\n",
      "--------------------------------------------------\n",
      "\n",
      "--------------------------------------------------\n",
      "  [+] Current Time (KST): 2025-10-15 23:54:32\n",
      "  [+] Current Time (UTC): 2025-10-15 14:54:32\n",
      "  [+] Page Number: 1\n",
      "  [+] Company Name: Autorotor\n",
      "  [+] Website: www.autorotorgroup.com\n",
      "  [+] Address: Via Dell'industria 4, Vaiano Cremasco, Lombardy, 26010, Italy\n",
      "  [+] Data Size: 124.64 GB\n",
      "  [+] Description: Autorotor builds custom machinery for factories and manufacturing plants. They make rotating tables,...\n",
      "  [+] Is Published: No\n",
      "  [+] Time Until Publication: 5d 2h 9m left\n",
      "  [+] Publication URL: Not yet published\n",
      "  [+] Posted Time (UTC): 2025-10-14 13:15:23\n",
      "  [+] Details URL: http://z3wqggtxft7id3ibr7srivv5gjof5fwg76slewnzwwakjuf3nlhukdid.onion/api/guest/blog/post?post_uuid=49aae3cb-88b4-4610-a673-a32df94352b6\n",
      "--------------------------------------------------\n",
      "\n",
      "--------------------------------------------------\n",
      "  [+] Current Time (KST): 2025-10-15 23:54:32\n",
      "  [+] Current Time (UTC): 2025-10-15 14:54:32\n",
      "  [+] Page Number: 1\n",
      "  [+] Company Name: Fountains Condominium Operations\n",
      "  [+] Website: www.fcocondo.com\n",
      "  [+] Address: 4615 Fountains Dr Ste B, Lake Worth, Florida, 33467, United States\n",
      "  [+] Data Size: 453.66 GB\n",
      "  [+] Description: Fountains Condominium Operations Inc. is an in-house management company dedicated to ensuring the be...\n",
      "  [+] Is Published: No\n",
      "  [+] Time Until Publication: 5d 0h 42m left\n",
      "  [+] Publication URL: Not yet published\n",
      "  [+] Posted Time (UTC): 2025-10-13 18:23:39\n",
      "  [+] Details URL: http://z3wqggtxft7id3ibr7srivv5gjof5fwg76slewnzwwakjuf3nlhukdid.onion/api/guest/blog/post?post_uuid=efaf7c86-bf78-47c4-915b-d2436ee81713\n",
      "--------------------------------------------------\n",
      "\n",
      "--------------------------------------------------\n",
      "  [+] Current Time (KST): 2025-10-15 23:54:32\n",
      "  [+] Current Time (UTC): 2025-10-15 14:54:32\n",
      "  [+] Page Number: 1\n",
      "  [+] Company Name: Express Logistics and Distribution Ltd\n",
      "  [+] Website: eld.bg\n",
      "  [+] Address: Tsarigradsko Shose Blvd.139 Sofia, Bulgaria\n",
      "  [+] Data Size: 578.03 GB\n",
      "  [+] Description: We expect Express Logistics and Distribution Ltd to contact us to prevent the publication of a large...\n",
      "  [+] Is Published: No\n",
      "  [+] Time Until Publication: 4d 6h 40m left\n",
      "  [+] Publication URL: Not yet published\n",
      "  [+] Posted Time (UTC): 2025-10-11 01:44:59\n",
      "  [+] Details URL: http://z3wqggtxft7id3ibr7srivv5gjof5fwg76slewnzwwakjuf3nlhukdid.onion/api/guest/blog/post?post_uuid=16ee1a86-1b1f-441a-8d5c-9a67e84bb5d4\n",
      "--------------------------------------------------\n",
      "\n",
      "--------------------------------------------------\n",
      "  [+] Current Time (KST): 2025-10-15 23:54:32\n",
      "  [+] Current Time (UTC): 2025-10-15 14:54:32\n",
      "  [+] Page Number: 1\n",
      "  [+] Company Name: Downes\n",
      "  [+] Website: downesbrokerage.com.au\n",
      "  [+] Address: Unit 2, No. 1 Industry Blvd.   Carrum Downs, Victoria 3201 admin@downesbrokerage.com.au  +61 03 9708 2180\n",
      "  [+] Data Size: 98.74 GB\n",
      "  [+] Description: Proudly managing FMCG brands for over 35 years.\n",
      "\n",
      "With over 94% coverage of the major grocery retaile...\n",
      "  [+] Is Published: Yes\n",
      "  [+] Time Until Publication: N/A\n",
      "  [+] Publication URL: http://z3wqggtxft7id3ibr7srivv5gjof5fwg76slewnzwwakjuf3nlhukdid.onion/api/guest/blog/post/files?post_uuid=7b8043b5-c540-4f65-b5c2-4ae47ce34962\n",
      "  [+] Posted Time (UTC): 2025-10-10 20:21:10\n",
      "  [+] Details URL: http://z3wqggtxft7id3ibr7srivv5gjof5fwg76slewnzwwakjuf3nlhukdid.onion/api/guest/blog/post?post_uuid=7b8043b5-c540-4f65-b5c2-4ae47ce34962\n",
      "--------------------------------------------------\n",
      "\n"
     ]
    }
   ],
   "source": [
    "all_victims = []\n",
    "\n",
    "session = get_tor_session()\n",
    "initial_data = fetch_page_data(session=session, page=1, base_url=URL)\n",
    "\n",
    "if initial_data:\n",
    "    total_pages = initial_data.get('data', {}).get('pages', 1)\n",
    "    print(f\"총 {total_pages}개의 페이지를 발견했습니다. 순차적으로 크롤링을 시작합니다.\\n\")\n",
    "    \n",
    "    page_num = 1 \n",
    "    publications = initial_data.get('data', {}).get('publications', [])\n",
    "    \n",
    "    for item in publications:\n",
    "        if not item.get('is_transfering', True):\n",
    "            parsed_info = parse_victim_data(item, page_num)\n",
    "            all_victims.append(parsed_info)\n",
    "    \n",
    "    display(Markdown(f\"### 데이터 처리 완료! 총 **{len(all_victims)}** 개의 피해 기업 정보를 리스트에 저장했습니다.\"))\n",
    "    \n",
    "    # 결과 확인 (최신 5개)\n",
    "    display(Markdown(\"### 수집된 데이터 샘플 (최신 5개)\"))\n",
    "    for victim_data in all_victims[:5]:\n",
    "        print_victim_details(victim_data)\n",
    "else:\n",
    "    display(Markdown(\"### 프로그램을 종료합니다. 첫 페이지를 가져올 수 없습니다.\"))"
   ]
  },
  {
   "cell_type": "code",
   "execution_count": null,
   "id": "7cdd7b71",
   "metadata": {},
   "outputs": [],
   "source": []
  }
 ],
 "metadata": {
  "kernelspec": {
   "display_name": "base",
   "language": "python",
   "name": "python3"
  },
  "language_info": {
   "codemirror_mode": {
    "name": "ipython",
    "version": 3
   },
   "file_extension": ".py",
   "mimetype": "text/x-python",
   "name": "python",
   "nbconvert_exporter": "python",
   "pygments_lexer": "ipython3",
   "version": "3.13.5"
  }
 },
 "nbformat": 4,
 "nbformat_minor": 5
}
